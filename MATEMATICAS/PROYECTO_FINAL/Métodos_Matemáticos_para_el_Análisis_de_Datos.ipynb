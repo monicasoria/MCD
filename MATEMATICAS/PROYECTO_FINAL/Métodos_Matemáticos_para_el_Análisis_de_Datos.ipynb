{
  "nbformat": 4,
  "nbformat_minor": 0,
  "metadata": {
    "colab": {
      "name": "Métodos Matemáticos para el Análisis de Datos",
      "provenance": [],
      "collapsed_sections": []
    },
    "kernelspec": {
      "name": "python3",
      "display_name": "Python 3"
    }
  },
  "cells": [
    {
      "cell_type": "markdown",
      "metadata": {
        "id": "jLNx0VyGEu_A"
      },
      "source": [
        "# **Maestría en Ciencia de los Datos**\n",
        "\n",
        "# **Métodos Matemáticos para el Análisis de Datos**\n",
        "\n",
        "\n",
        "**Presentan:**\n",
        "\n",
        "*   220481261 - Alonso Soria Mónica\n",
        "*   398813438 - Lomelí Avila Afra Julieta\n",
        "*   220981202 - Martínez Ayala Pedro\n",
        "\n",
        "**Temas asignados:**\n",
        "\n",
        "1. Solucionar un problema de matrices de Wassily Leontief.\n",
        "2. Solucionar un problema de programación lineal (método gráfico).\n",
        "3. Solucionar un problema con aplicación de una ecuación diferencial homogénea."
      ]
    },
    {
      "cell_type": "markdown",
      "metadata": {
        "id": "Joq0oTcipdke"
      },
      "source": [
        "\n",
        "\n",
        "```\n",
        "# This is formatted as code\n",
        "```\n",
        "\n",
        "# Bibliotecas"
      ]
    },
    {
      "cell_type": "code",
      "metadata": {
        "id": "q-z-oKqGFl8Y"
      },
      "source": [
        "#Pulp para Optimización\n",
        "\n",
        "pip install -U \"scipy==1.4.*\" \"pulp==2.1\""
      ],
      "execution_count": null,
      "outputs": []
    },
    {
      "cell_type": "code",
      "metadata": {
        "id": "eNYInwt-Q2q6"
      },
      "source": [
        "#Scipy, Numpy, Matplotlib\n",
        "\n",
        "from scipy.optimize import linprog\n",
        "import matplotlib.pyplot as plt\n",
        "%matplotlib inline\n",
        "import numpy as np"
      ],
      "execution_count": null,
      "outputs": []
    },
    {
      "cell_type": "markdown",
      "metadata": {
        "id": "RhN7Hn8zp2PD"
      },
      "source": [
        "# Problema 2. Programación Lineal - Método gráfico"
      ]
    },
    {
      "cell_type": "markdown",
      "metadata": {
        "id": "VcfXwnhSVPx4"
      },
      "source": [
        "Una fábica de joyería elabora y vende pulseras y collares, las cuales elabora con pequeñas piedras de diferentes colores: rojo, negro y amarillo, y aunque también utiliza otros materiales, estas piedras son fundamentales para realizar sus diseños. Las pulseras utilizan 6 piedras de color rojo, 12 piedras de color negro y 4 de color amarillo, mientras que los collares utilizan 12 piedras de color rojo, 30 piedras de color negro y 12 de color amarillo. Las piedras se compran en un poblado cercano a la ciudad donde se encuentra la fábrica, por lo que la disponibilidad del material es fundamental para planear la producción. El inventario actual para trabajar esta semana es de: 396 de color rojo, 816 de color negro y 312 de color amarillo.\n",
        "\n",
        "Cada piedra de color roja cuesta \\$3.00, las negras \\$1.00 y las piedras amarillas \\$2.00. El tiempo también es un factor importante a considerar. Se invierten 20 minutos en la elaboración de cada pulsera y 30 minutos por cada collar y dispone de 20 horas semanales, es decir, 1200 minutos.\n",
        "\n",
        "Los costos de otros materiales y piedras representan un costo de \\$10.00 para las pulseras y \\$15.00 para los collares. Finalmente considera que las pulseras se venden en \\$85.00 y los collares en \\$185.00\n",
        "¿Cuántos collares y pulseras deben fabricarse para maximizar la utilidad?\n"
      ]
    },
    {
      "cell_type": "markdown",
      "metadata": {
        "id": "JaoZKNBcNtwK"
      },
      "source": [
        "$$Utilidad = Precio venta - Costo (piedras + otros materiales)$$ \n",
        "\n",
        "$$Utilidad pulsera = $85 - $48 = $37$$\n",
        "\n",
        "$$Utilidad collar = $185 - $105 = $80$$\n",
        "\n",
        "\n"
      ]
    },
    {
      "cell_type": "markdown",
      "metadata": {
        "id": "zbbzfaQQ4PA6"
      },
      "source": [
        "\n",
        "\n",
        "\n",
        "Tabla de datos\n",
        "\n",
        "![Tabla_graf.PNG](data:image/png;base64,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)"
      ]
    },
    {
      "cell_type": "markdown",
      "metadata": {
        "id": "IrTc0RrTTe1O"
      },
      "source": [
        "Definición del problema de programación lineal \\\\\n",
        "\n",
        "Función Objetivo: \n",
        "$$Z= Max (37x + 80y)$$ \\\\\n",
        "Restricciones: $$6x+12y <= 396$$ \\\\\n",
        "               $$12x + 30y <=816$$ \\\\\n",
        "               $$4x + 12y <= 312$$ \\\\\n",
        "               $$20x + 30y <= 1200$$ \\\\\n",
        "No negatividad: $$x,y >= 0$$"
      ]
    },
    {
      "cell_type": "markdown",
      "metadata": {
        "id": "a7voyTbNVvHV"
      },
      "source": [
        "**NOTA:** Dado que linprog() resuelve solamente problemas de minización, debemos minimizar el negativo de la función objetivo, para asi obtener como resultado la maximización de la función. \\\\\n",
        "\n",
        "Nuevo sistema: \\\\\n",
        "Función Objetivo: $$Z= Min(-37x - 80y)$$ \\\\\n",
        "Restricciones: \\\\\n",
        "               $$6x+12y <= 396$$ \\\\\n",
        "               $$12x + 30y <=816$$ \\\\\n",
        "               $$4x + 12y <= 312$$ \\\\\n",
        "               $$20x + 30y <= 1200$$ \\\\\n",
        "No negatividad: $$x,y >= 0$$"
      ]
    },
    {
      "cell_type": "code",
      "metadata": {
        "id": "2S8c4rJWie1u"
      },
      "source": [
        "# Coeficientes de la función objetivo\n",
        "# Aqui se definen los coeficientes \"x\" y \"y\" de la función objetivo\n",
        "obj = [-37, -80]\n",
        "\n",
        "lhs_ineq = [[ 6,  12],  [12,  30],  [ 4, 12],  [ 20, 30]]\n",
        "\n",
        "rhs_ineq = [396,  816,  312,  1200]  \n",
        "\n",
        "#Añadimos no negatividad (de cero a infinito)\n",
        "bnd = [(0, float(\"inf\")),(0, float(\"inf\"))] "
      ],
      "execution_count": null,
      "outputs": []
    },
    {
      "cell_type": "code",
      "metadata": {
        "colab": {
          "base_uri": "https://localhost:8080/"
        },
        "id": "sRMVDFbmYjL4",
        "outputId": "2ac37854-6fd1-47ac-e9f1-b18f7cd1e36c"
      },
      "source": [
        "# Ingresamos los argumentos para la función lingpro\n",
        "\n",
        "opt = linprog(c=obj, A_ub=lhs_ineq, b_ub=rhs_ineq, bounds=bnd, method=\"revised simplex\")\n",
        "opt"
      ],
      "execution_count": null,
      "outputs": [
        {
          "output_type": "execute_result",
          "data": {
            "text/plain": [
              "     con: array([], dtype=float64)\n",
              "     fun: -2416.0\n",
              " message: 'Optimization terminated successfully.'\n",
              "     nit: 3\n",
              "   slack: array([ 1.20000000e+01, -1.13686838e-13,  2.40000000e+01,  0.00000000e+00])\n",
              "  status: 0\n",
              " success: True\n",
              "       x: array([48.,  8.])"
            ]
          },
          "metadata": {
            "tags": []
          },
          "execution_count": 17
        }
      ]
    },
    {
      "cell_type": "code",
      "metadata": {
        "colab": {
          "base_uri": "https://localhost:8080/"
        },
        "id": "v8JgvnrYZFSg",
        "outputId": "57e3f0f2-fc72-4896-8fbb-6e29d911e277"
      },
      "source": [
        "# Obtenemos el punto en que la utilidad se maximiza\n",
        "\n",
        "opt.fun\n",
        "\n",
        "opt.success\n",
        "\n",
        "opt.x"
      ],
      "execution_count": null,
      "outputs": [
        {
          "output_type": "execute_result",
          "data": {
            "text/plain": [
              "array([48.,  8.])"
            ]
          },
          "metadata": {
            "tags": []
          },
          "execution_count": 11
        }
      ]
    },
    {
      "cell_type": "code",
      "metadata": {
        "colab": {
          "base_uri": "https://localhost:8080/",
          "height": 300
        },
        "id": "BzEUE5pJaCPO",
        "outputId": "4728d327-6727-4b98-c966-312649371ae7"
      },
      "source": [
        "# Construcción del gráfico\n",
        "# x > 0\n",
        "# vector (inicio, salto, fin)\n",
        "x = np.linspace(0, 100, 2000)\n",
        "\n",
        "\n",
        "# Construímos las rectas de las restricciones \n",
        "\n",
        "#6x+12y <= 396 , y <= (396 -6*x)/12\n",
        "y1= (396 -6*x)/12\n",
        "\n",
        "#12x + 30y <=816 , y<= (816 -12*x)/30\n",
        "y2= (816 -12*x)/30\n",
        "\n",
        "#4x + 12y <= 312, y<= (312-4*x)/12\n",
        "y3= (312-4*x)/12\n",
        "\n",
        "#20x + 30y <= 1200, y <= (1200-20*x)/30\n",
        "y4= (1200-20*x)/30\n",
        "\n",
        "# Graficar\n",
        "plt.plot(x, y1, label=r'$y\\geq(396 -6*x)/12$')\n",
        "plt.plot(x, y2, label=r'$2y\\leq(816 -12*x)/30$')\n",
        "plt.plot(x, y3, label=r'$4y\\geq (312-4*x)/12$')\n",
        "plt.plot(x, y4, label=r'$y\\leq (1200-20*x)/30$')\n",
        "plt.xlim((0, 90)) #límite eje x\n",
        "plt.ylim((0, 40)) #límite eje y\n",
        "plt.xlabel(r'$x$')\n",
        "plt.ylabel(r'$y$')\n",
        "\n",
        "# Región Factible, en este caso es un punto el que maximiza la utilidad (48,8) \n",
        "# por lo que la solución no es una región, sino el punto en sí mismo.\n",
        "y5 = np.minimum(y2, y4)\n",
        "y6 = np.maximum(y1, y3)\n",
        "plt.fill_between(x, y5, y6, where=y5>y6, color='grey', alpha=0.5)\n",
        "plt.legend(bbox_to_anchor=(1.05, 1), loc=2, borderaxespad=0.)"
      ],
      "execution_count": null,
      "outputs": [
        {
          "output_type": "execute_result",
          "data": {
            "text/plain": [
              "<matplotlib.legend.Legend at 0x7f82ec17cd30>"
            ]
          },
          "metadata": {
            "tags": []
          },
          "execution_count": 12
        },
        {
          "output_type": "display_data",
          "data": {
            "image/png": "[encoded data removed]",
            "text/plain": [
              "<Figure size 432x288 with 1 Axes>"
            ]
          },
          "metadata": {
            "tags": [],
            "needs_background": "light"
          }
        }
      ]
    },
    {
      "cell_type": "markdown",
      "metadata": {
        "id": "37AKGeMxqLli"
      },
      "source": [
        "# Problema 3. Ecuaciones Diferenciales Homogéneas"
      ]
    },
    {
      "cell_type": "markdown",
      "metadata": {
        "id": "gj39SR2penSh"
      },
      "source": [
        "Definimos la ecuación homogénea de primer orden que queremos resolver\n",
        "\n",
        " $$\\frac{dy}{dx}= -ky$$ \\\\\n",
        "\n",
        "Con condición inicial de $$y(x=0)=5$$ \\\\\n",
        "\n",
        "\n",
        "Comprobamos que tenga la forma $$M(x,y)dx + N(x,y)dy = 0$$ \\\\\n",
        "\n",
        "Después la despejamos para ver si se adapta a la fórmula \\\\\n",
        " \n",
        "$$dy + dx(ky) = 0$$ \\\\\n",
        " \n",
        "Comprobamos que sí cumple con la forma de la ecuación diferencial homogénea de primer orden \\\\\n",
        "\n",
        "\n"
      ]
    },
    {
      "cell_type": "code",
      "metadata": {
        "colab": {
          "base_uri": "https://localhost:8080/",
          "height": 279
        },
        "id": "6EY9OEzviUyu",
        "outputId": "1e427cd6-4ed2-42ea-f1ad-80970769c7bb"
      },
      "source": [
        "import numpy as np\n",
        "from scipy.integrate import odeint\n",
        "import matplotlib.pyplot as plt\n",
        "\n",
        "# Función regresa dy/dx\n",
        "def model(y,x):\n",
        "    k = 0.3\n",
        "    dydx = -k * y\n",
        "    return dydx\n",
        "\n",
        "# Condición inicial\n",
        "y0 = 5\n",
        "\n",
        "# Puntos de x\n",
        "x = np.linspace(0,20)\n",
        "\n",
        "# Resolver la ODE\n",
        "y = odeint(model,y0,x)\n",
        "\n",
        "# Plot resultados\n",
        "plt.plot(x,y)\n",
        "plt.xlabel('x')\n",
        "plt.ylabel('y(x)')\n",
        "plt.show()"
      ],
      "execution_count": null,
      "outputs": [
        {
          "output_type": "display_data",
          "data": {
            "image/png": "[encoded data removed]",
            "text/plain": [
              "<Figure size 432x288 with 1 Axes>"
            ]
          },
          "metadata": {
            "tags": [],
            "needs_background": "light"
          }
        }
      ]
    }
  ]
}